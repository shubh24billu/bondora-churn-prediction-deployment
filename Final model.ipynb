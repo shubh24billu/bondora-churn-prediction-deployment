{
 "cells": [
  {
   "cell_type": "code",
   "execution_count": 1,
   "id": "f7b4cffc",
   "metadata": {
    "ExecuteTime": {
     "end_time": "2022-11-04T08:21:34.569358Z",
     "start_time": "2022-11-04T08:21:28.987938Z"
    }
   },
   "outputs": [],
   "source": [
    "import pandas as pd\n",
    "import matplotlib.pyplot as plt\n",
    "import seaborn as sns\n",
    "import numpy as np\n",
    "from sklearn.linear_model import LogisticRegression, LinearRegression\n",
    "from sklearn.model_selection import train_test_split, RandomizedSearchCV, StratifiedKFold\n",
    "from sklearn.metrics import classification_report,accuracy_score,confusion_matrix,roc_auc_score,roc_curve\n",
    "from sklearn.tree import  DecisionTreeClassifier\n",
    "from sklearn import svm\n",
    "from sklearn.ensemble import GradientBoostingClassifier\n",
    "from sklearn.feature_selection import RFE\n",
    "from xgboost import XGBClassifier\n",
    "from sklearn.model_selection import KFold,cross_val_score"
   ]
  },
  {
   "cell_type": "code",
   "execution_count": 6,
   "id": "d19ddbb4",
   "metadata": {
    "ExecuteTime": {
     "end_time": "2022-10-31T05:30:46.013216Z",
     "start_time": "2022-10-31T05:30:45.747703Z"
    }
   },
   "outputs": [],
   "source": [
    "df1 = pd.read_csv(\"Preprocessed_Bondora.csv\")"
   ]
  },
  {
   "cell_type": "code",
   "execution_count": 7,
   "id": "b038dfbe",
   "metadata": {
    "ExecuteTime": {
     "end_time": "2022-10-31T05:30:46.385905Z",
     "start_time": "2022-10-31T05:30:46.239402Z"
    }
   },
   "outputs": [
    {
     "data": {
      "text/html": [
       "<div>\n",
       "<style scoped>\n",
       "    .dataframe tbody tr th:only-of-type {\n",
       "        vertical-align: middle;\n",
       "    }\n",
       "\n",
       "    .dataframe tbody tr th {\n",
       "        vertical-align: top;\n",
       "    }\n",
       "\n",
       "    .dataframe thead th {\n",
       "        text-align: right;\n",
       "    }\n",
       "</style>\n",
       "<table border=\"1\" class=\"dataframe\">\n",
       "  <thead>\n",
       "    <tr style=\"text-align: right;\">\n",
       "      <th></th>\n",
       "      <th>NewCreditCustomer</th>\n",
       "      <th>VerificationType</th>\n",
       "      <th>Age</th>\n",
       "      <th>Gender</th>\n",
       "      <th>Country</th>\n",
       "      <th>AppliedAmount</th>\n",
       "      <th>Amount</th>\n",
       "      <th>Interest</th>\n",
       "      <th>LoanDuration</th>\n",
       "      <th>MonthlyPayment</th>\n",
       "      <th>...</th>\n",
       "      <th>HomeOwnershipType</th>\n",
       "      <th>IncomeTotal</th>\n",
       "      <th>LiabilitiesTotal</th>\n",
       "      <th>DebtToIncome</th>\n",
       "      <th>PrincipalBalance</th>\n",
       "      <th>InterestAndPenaltyBalance</th>\n",
       "      <th>AmountOfPreviousLoansBeforeLoan</th>\n",
       "      <th>PreviousRepaymentsBeforeLoan</th>\n",
       "      <th>PreviousEarlyRepaymentsCountBeforeLoan</th>\n",
       "      <th>Target</th>\n",
       "    </tr>\n",
       "  </thead>\n",
       "  <tbody>\n",
       "    <tr>\n",
       "      <th>0</th>\n",
       "      <td>1</td>\n",
       "      <td>1</td>\n",
       "      <td>61</td>\n",
       "      <td>0</td>\n",
       "      <td>0</td>\n",
       "      <td>319.5582</td>\n",
       "      <td>115.0408</td>\n",
       "      <td>30.00</td>\n",
       "      <td>12</td>\n",
       "      <td>0.00</td>\n",
       "      <td>...</td>\n",
       "      <td>6</td>\n",
       "      <td>10500.0</td>\n",
       "      <td>0.00</td>\n",
       "      <td>0.00</td>\n",
       "      <td>0.00</td>\n",
       "      <td>0.00</td>\n",
       "      <td>83.0852</td>\n",
       "      <td>0.0000</td>\n",
       "      <td>0</td>\n",
       "      <td>0</td>\n",
       "    </tr>\n",
       "    <tr>\n",
       "      <th>1</th>\n",
       "      <td>0</td>\n",
       "      <td>1</td>\n",
       "      <td>48</td>\n",
       "      <td>0</td>\n",
       "      <td>0</td>\n",
       "      <td>191.7349</td>\n",
       "      <td>140.6057</td>\n",
       "      <td>25.00</td>\n",
       "      <td>1</td>\n",
       "      <td>0.00</td>\n",
       "      <td>...</td>\n",
       "      <td>6</td>\n",
       "      <td>10800.0</td>\n",
       "      <td>0.00</td>\n",
       "      <td>0.00</td>\n",
       "      <td>0.00</td>\n",
       "      <td>0.00</td>\n",
       "      <td>255.6467</td>\n",
       "      <td>258.6256</td>\n",
       "      <td>0</td>\n",
       "      <td>0</td>\n",
       "    </tr>\n",
       "    <tr>\n",
       "      <th>2</th>\n",
       "      <td>1</td>\n",
       "      <td>1</td>\n",
       "      <td>58</td>\n",
       "      <td>0</td>\n",
       "      <td>0</td>\n",
       "      <td>319.5582</td>\n",
       "      <td>319.5409</td>\n",
       "      <td>25.00</td>\n",
       "      <td>20</td>\n",
       "      <td>0.00</td>\n",
       "      <td>...</td>\n",
       "      <td>6</td>\n",
       "      <td>7000.0</td>\n",
       "      <td>0.00</td>\n",
       "      <td>0.00</td>\n",
       "      <td>116.35</td>\n",
       "      <td>414.07</td>\n",
       "      <td>0.0000</td>\n",
       "      <td>0.0000</td>\n",
       "      <td>0</td>\n",
       "      <td>1</td>\n",
       "    </tr>\n",
       "    <tr>\n",
       "      <th>3</th>\n",
       "      <td>1</td>\n",
       "      <td>1</td>\n",
       "      <td>23</td>\n",
       "      <td>0</td>\n",
       "      <td>0</td>\n",
       "      <td>127.8233</td>\n",
       "      <td>57.5205</td>\n",
       "      <td>45.00</td>\n",
       "      <td>15</td>\n",
       "      <td>0.00</td>\n",
       "      <td>...</td>\n",
       "      <td>6</td>\n",
       "      <td>11600.0</td>\n",
       "      <td>0.00</td>\n",
       "      <td>0.00</td>\n",
       "      <td>0.00</td>\n",
       "      <td>0.00</td>\n",
       "      <td>134.2144</td>\n",
       "      <td>0.0000</td>\n",
       "      <td>0</td>\n",
       "      <td>0</td>\n",
       "    </tr>\n",
       "    <tr>\n",
       "      <th>4</th>\n",
       "      <td>1</td>\n",
       "      <td>1</td>\n",
       "      <td>25</td>\n",
       "      <td>0</td>\n",
       "      <td>0</td>\n",
       "      <td>319.5582</td>\n",
       "      <td>319.5436</td>\n",
       "      <td>30.00</td>\n",
       "      <td>12</td>\n",
       "      <td>0.00</td>\n",
       "      <td>...</td>\n",
       "      <td>6</td>\n",
       "      <td>6800.0</td>\n",
       "      <td>0.00</td>\n",
       "      <td>0.00</td>\n",
       "      <td>0.00</td>\n",
       "      <td>0.00</td>\n",
       "      <td>146.9966</td>\n",
       "      <td>0.0000</td>\n",
       "      <td>0</td>\n",
       "      <td>1</td>\n",
       "    </tr>\n",
       "    <tr>\n",
       "      <th>...</th>\n",
       "      <td>...</td>\n",
       "      <td>...</td>\n",
       "      <td>...</td>\n",
       "      <td>...</td>\n",
       "      <td>...</td>\n",
       "      <td>...</td>\n",
       "      <td>...</td>\n",
       "      <td>...</td>\n",
       "      <td>...</td>\n",
       "      <td>...</td>\n",
       "      <td>...</td>\n",
       "      <td>...</td>\n",
       "      <td>...</td>\n",
       "      <td>...</td>\n",
       "      <td>...</td>\n",
       "      <td>...</td>\n",
       "      <td>...</td>\n",
       "      <td>...</td>\n",
       "      <td>...</td>\n",
       "      <td>...</td>\n",
       "      <td>...</td>\n",
       "    </tr>\n",
       "    <tr>\n",
       "      <th>76819</th>\n",
       "      <td>1</td>\n",
       "      <td>2</td>\n",
       "      <td>37</td>\n",
       "      <td>1</td>\n",
       "      <td>2</td>\n",
       "      <td>3000.0000</td>\n",
       "      <td>3000.0000</td>\n",
       "      <td>31.01</td>\n",
       "      <td>60</td>\n",
       "      <td>107.68</td>\n",
       "      <td>...</td>\n",
       "      <td>0</td>\n",
       "      <td>1400.0</td>\n",
       "      <td>500.00</td>\n",
       "      <td>7.69</td>\n",
       "      <td>0.00</td>\n",
       "      <td>0.00</td>\n",
       "      <td>0.0000</td>\n",
       "      <td>0.0000</td>\n",
       "      <td>0</td>\n",
       "      <td>1</td>\n",
       "    </tr>\n",
       "    <tr>\n",
       "      <th>76820</th>\n",
       "      <td>0</td>\n",
       "      <td>2</td>\n",
       "      <td>35</td>\n",
       "      <td>1</td>\n",
       "      <td>2</td>\n",
       "      <td>3000.0000</td>\n",
       "      <td>3000.0000</td>\n",
       "      <td>18.25</td>\n",
       "      <td>60</td>\n",
       "      <td>85.33</td>\n",
       "      <td>...</td>\n",
       "      <td>8</td>\n",
       "      <td>2265.0</td>\n",
       "      <td>1777.46</td>\n",
       "      <td>31.58</td>\n",
       "      <td>0.00</td>\n",
       "      <td>0.00</td>\n",
       "      <td>3000.0000</td>\n",
       "      <td>389.3600</td>\n",
       "      <td>0</td>\n",
       "      <td>0</td>\n",
       "    </tr>\n",
       "    <tr>\n",
       "      <th>76821</th>\n",
       "      <td>1</td>\n",
       "      <td>0</td>\n",
       "      <td>40</td>\n",
       "      <td>1</td>\n",
       "      <td>2</td>\n",
       "      <td>2500.0000</td>\n",
       "      <td>2500.0000</td>\n",
       "      <td>24.83</td>\n",
       "      <td>60</td>\n",
       "      <td>80.42</td>\n",
       "      <td>...</td>\n",
       "      <td>8</td>\n",
       "      <td>2500.0</td>\n",
       "      <td>1350.00</td>\n",
       "      <td>3.22</td>\n",
       "      <td>630.24</td>\n",
       "      <td>1227.98</td>\n",
       "      <td>0.0000</td>\n",
       "      <td>0.0000</td>\n",
       "      <td>0</td>\n",
       "      <td>1</td>\n",
       "    </tr>\n",
       "    <tr>\n",
       "      <th>76822</th>\n",
       "      <td>0</td>\n",
       "      <td>3</td>\n",
       "      <td>47</td>\n",
       "      <td>0</td>\n",
       "      <td>0</td>\n",
       "      <td>3000.0000</td>\n",
       "      <td>3000.0000</td>\n",
       "      <td>17.74</td>\n",
       "      <td>60</td>\n",
       "      <td>84.51</td>\n",
       "      <td>...</td>\n",
       "      <td>11</td>\n",
       "      <td>540.0</td>\n",
       "      <td>732.05</td>\n",
       "      <td>44.35</td>\n",
       "      <td>0.00</td>\n",
       "      <td>0.00</td>\n",
       "      <td>500.0000</td>\n",
       "      <td>96.8000</td>\n",
       "      <td>0</td>\n",
       "      <td>1</td>\n",
       "    </tr>\n",
       "    <tr>\n",
       "      <th>76823</th>\n",
       "      <td>0</td>\n",
       "      <td>3</td>\n",
       "      <td>21</td>\n",
       "      <td>0</td>\n",
       "      <td>0</td>\n",
       "      <td>3000.0000</td>\n",
       "      <td>3000.0000</td>\n",
       "      <td>30.50</td>\n",
       "      <td>60</td>\n",
       "      <td>106.74</td>\n",
       "      <td>...</td>\n",
       "      <td>4</td>\n",
       "      <td>500.0</td>\n",
       "      <td>531.03</td>\n",
       "      <td>35.03</td>\n",
       "      <td>1526.09</td>\n",
       "      <td>9019.04</td>\n",
       "      <td>2500.0000</td>\n",
       "      <td>242.6400</td>\n",
       "      <td>0</td>\n",
       "      <td>1</td>\n",
       "    </tr>\n",
       "  </tbody>\n",
       "</table>\n",
       "<p>76824 rows × 26 columns</p>\n",
       "</div>"
      ],
      "text/plain": [
       "       NewCreditCustomer  VerificationType  Age  Gender  Country  \\\n",
       "0                      1                 1   61       0        0   \n",
       "1                      0                 1   48       0        0   \n",
       "2                      1                 1   58       0        0   \n",
       "3                      1                 1   23       0        0   \n",
       "4                      1                 1   25       0        0   \n",
       "...                  ...               ...  ...     ...      ...   \n",
       "76819                  1                 2   37       1        2   \n",
       "76820                  0                 2   35       1        2   \n",
       "76821                  1                 0   40       1        2   \n",
       "76822                  0                 3   47       0        0   \n",
       "76823                  0                 3   21       0        0   \n",
       "\n",
       "       AppliedAmount     Amount  Interest  LoanDuration  MonthlyPayment  ...  \\\n",
       "0           319.5582   115.0408     30.00            12            0.00  ...   \n",
       "1           191.7349   140.6057     25.00             1            0.00  ...   \n",
       "2           319.5582   319.5409     25.00            20            0.00  ...   \n",
       "3           127.8233    57.5205     45.00            15            0.00  ...   \n",
       "4           319.5582   319.5436     30.00            12            0.00  ...   \n",
       "...              ...        ...       ...           ...             ...  ...   \n",
       "76819      3000.0000  3000.0000     31.01            60          107.68  ...   \n",
       "76820      3000.0000  3000.0000     18.25            60           85.33  ...   \n",
       "76821      2500.0000  2500.0000     24.83            60           80.42  ...   \n",
       "76822      3000.0000  3000.0000     17.74            60           84.51  ...   \n",
       "76823      3000.0000  3000.0000     30.50            60          106.74  ...   \n",
       "\n",
       "       HomeOwnershipType  IncomeTotal  LiabilitiesTotal  DebtToIncome  \\\n",
       "0                      6      10500.0              0.00          0.00   \n",
       "1                      6      10800.0              0.00          0.00   \n",
       "2                      6       7000.0              0.00          0.00   \n",
       "3                      6      11600.0              0.00          0.00   \n",
       "4                      6       6800.0              0.00          0.00   \n",
       "...                  ...          ...               ...           ...   \n",
       "76819                  0       1400.0            500.00          7.69   \n",
       "76820                  8       2265.0           1777.46         31.58   \n",
       "76821                  8       2500.0           1350.00          3.22   \n",
       "76822                 11        540.0            732.05         44.35   \n",
       "76823                  4        500.0            531.03         35.03   \n",
       "\n",
       "       PrincipalBalance  InterestAndPenaltyBalance  \\\n",
       "0                  0.00                       0.00   \n",
       "1                  0.00                       0.00   \n",
       "2                116.35                     414.07   \n",
       "3                  0.00                       0.00   \n",
       "4                  0.00                       0.00   \n",
       "...                 ...                        ...   \n",
       "76819              0.00                       0.00   \n",
       "76820              0.00                       0.00   \n",
       "76821            630.24                    1227.98   \n",
       "76822              0.00                       0.00   \n",
       "76823           1526.09                    9019.04   \n",
       "\n",
       "       AmountOfPreviousLoansBeforeLoan  PreviousRepaymentsBeforeLoan  \\\n",
       "0                              83.0852                        0.0000   \n",
       "1                             255.6467                      258.6256   \n",
       "2                               0.0000                        0.0000   \n",
       "3                             134.2144                        0.0000   \n",
       "4                             146.9966                        0.0000   \n",
       "...                                ...                           ...   \n",
       "76819                           0.0000                        0.0000   \n",
       "76820                        3000.0000                      389.3600   \n",
       "76821                           0.0000                        0.0000   \n",
       "76822                         500.0000                       96.8000   \n",
       "76823                        2500.0000                      242.6400   \n",
       "\n",
       "       PreviousEarlyRepaymentsCountBeforeLoan  Target  \n",
       "0                                           0       0  \n",
       "1                                           0       0  \n",
       "2                                           0       1  \n",
       "3                                           0       0  \n",
       "4                                           0       1  \n",
       "...                                       ...     ...  \n",
       "76819                                       0       1  \n",
       "76820                                       0       0  \n",
       "76821                                       0       1  \n",
       "76822                                       0       1  \n",
       "76823                                       0       1  \n",
       "\n",
       "[76824 rows x 26 columns]"
      ]
     },
     "execution_count": 7,
     "metadata": {},
     "output_type": "execute_result"
    }
   ],
   "source": [
    "df1"
   ]
  },
  {
   "cell_type": "code",
   "execution_count": 8,
   "id": "66e0c7b9",
   "metadata": {
    "ExecuteTime": {
     "end_time": "2022-10-31T05:30:48.372230Z",
     "start_time": "2022-10-31T05:30:48.350072Z"
    }
   },
   "outputs": [],
   "source": [
    "X = df1.drop(columns = [\"Target\", \"AppliedAmount\"])\n",
    "Y = df1['Target']"
   ]
  },
  {
   "cell_type": "code",
   "execution_count": 9,
   "id": "776be112",
   "metadata": {
    "ExecuteTime": {
     "end_time": "2022-10-31T05:30:48.798205Z",
     "start_time": "2022-10-31T05:30:48.787198Z"
    }
   },
   "outputs": [
    {
     "data": {
      "text/plain": [
       "1    42383\n",
       "0    34441\n",
       "Name: Target, dtype: int64"
      ]
     },
     "execution_count": 9,
     "metadata": {},
     "output_type": "execute_result"
    }
   ],
   "source": [
    "Y.value_counts()"
   ]
  },
  {
   "cell_type": "code",
   "execution_count": 10,
   "id": "e2430366",
   "metadata": {
    "ExecuteTime": {
     "end_time": "2022-10-31T05:36:43.575056Z",
     "start_time": "2022-10-31T05:36:43.566175Z"
    }
   },
   "outputs": [],
   "source": [
    "params={\n",
    " \"learning_rate\"    : [0.05, 0.10, 0.15, 0.20, 0.25, 0.30 ] ,\n",
    " \"max_depth\"        : [ 3, 4, 5, 6, 8, 10, 12, 15, 18, 20],\n",
    " \"min_child_weight\" : [ 1, 3, 5, 7 ],\n",
    " \"gamma\"            : [ 0.0, 0.1, 0.2 , 0.3, 0.4 ],\n",
    " \"colsample_bytree\" : [ 0.3, 0.4, 0.5 , 0.7 ]\n",
    "    \n",
    "}"
   ]
  },
  {
   "cell_type": "code",
   "execution_count": null,
   "id": "f5002d3a",
   "metadata": {
    "ExecuteTime": {
     "start_time": "2022-10-31T06:55:35.845Z"
    }
   },
   "outputs": [
    {
     "name": "stdout",
     "output_type": "stream",
     "text": [
      "Fitting 10 folds for each of 5 candidates, totalling 50 fits\n"
     ]
    }
   ],
   "source": [
    "xgb_clf=XGBClassifier()\n",
    "kfold = StratifiedKFold(n_splits=10, shuffle=True, random_state=42)\n",
    "random_search=RandomizedSearchCV(xgb_clf, param_distributions=params, n_iter=5, scoring='roc_auc',\n",
    "                                 n_jobs=-1, cv=kfold, verbose=3, random_state=42)\n",
    "random_search.fit(X, Y)\n"
   ]
  },
  {
   "cell_type": "code",
   "execution_count": null,
   "id": "4f08928e",
   "metadata": {
    "ExecuteTime": {
     "start_time": "2022-10-31T06:55:38.779Z"
    }
   },
   "outputs": [],
   "source": [
    "random_search.best_params_"
   ]
  },
  {
   "cell_type": "code",
   "execution_count": null,
   "id": "04b98c53",
   "metadata": {
    "ExecuteTime": {
     "end_time": "2022-10-31T05:39:28.638967Z",
     "start_time": "2022-10-31T05:39:15.158578Z"
    }
   },
   "outputs": [],
   "source": [
    "xgb_clf_imb = XGBClassifier(min_child_weight=5, max_depth = 12, learning_rate=0.15,gamma= 0.3,\n",
    " colsample_bytree=0.7)\n",
    "xgb_clf_imb.fit(X, Y)\n",
    "predictions = xgb_clf_imb.predict(X)\n",
    "\n",
    "print(\"Confusion Matrix:\")\n",
    "print(confusion_matrix(Y, predictions))\n",
    "\n",
    "print(\"Classification Report\")\n",
    "print(classification_report(Y, predictions))"
   ]
  },
  {
   "cell_type": "code",
   "execution_count": null,
   "id": "119f48f3",
   "metadata": {
    "ExecuteTime": {
     "end_time": "2022-10-31T05:40:44.590444Z",
     "start_time": "2022-10-31T05:40:44.307533Z"
    }
   },
   "outputs": [],
   "source": [
    "xgb_clf_imb.score(X, Y)"
   ]
  },
  {
   "cell_type": "code",
   "execution_count": null,
   "id": "ca4df23e",
   "metadata": {},
   "outputs": [],
   "source": [
    "df1.corr().sort_values(\"Target\")[\"Target\"]"
   ]
  },
  {
   "cell_type": "code",
   "execution_count": null,
   "id": "861435fd",
   "metadata": {},
   "outputs": [],
   "source": [
    "rfe = RFE(xgb_clf_imb, n_features_to_select = 12)\n",
    "fit = rfe.fit(X, Y)\n",
    "\n",
    "fit.ranking_"
   ]
  },
  {
   "cell_type": "code",
   "execution_count": null,
   "id": "2d3c4f62",
   "metadata": {},
   "outputs": [],
   "source": [
    "data = pd.DataFrame({\"Column\":X.columns,\"Value\":fit.ranking_})\n",
    "\n",
    "data.sort_values(\"Value\")"
   ]
  },
  {
   "cell_type": "code",
   "execution_count": null,
   "id": "fa415cb9",
   "metadata": {},
   "outputs": [],
   "source": [
    "AmountOfPreviousLoansBeforeLoan          -0.073826\n",
    "PreviousRepaymentsBeforeLoan             -0.068554\n",
    "EmploymentDurationCurrentEmployer        -0.021301\n",
    "UseOfLoan                                -0.020796\n",
    "IncomeTotal                              -0.016028\n",
    "VerificationType                         -0.015009\n",
    "PreviousEarlyRepaymentsCountBeforeLoan   -0.013581\n",
    "OccupationArea                           -0.010468\n",
    "LiabilitiesTotal                         -0.002728\n",
    "Education                                 0.018500\n",
    "HomeOwnershipType                         0.022476\n",
    "MaritalStatus                             0.027862\n",
    "EmploymentStatus                          0.028930\n",
    "Age                                       0.047144\n",
    "Amount                                    0.048753\n",
    "Gender                                    0.056514\n",
    "NewCreditCustomer                         0.067275\n",
    "DebtToIncome                              0.081891\n"
   ]
  },
  {
   "cell_type": "code",
   "execution_count": 28,
   "id": "37578e3c",
   "metadata": {},
   "outputs": [],
   "source": [
    "keep = ['Country','Amount', 'Interest', 'LoanDuration', 'MonthlyPayment', 'UseOfLoan',\n",
    "       'MaritalStatus', 'EmploymentStatus',\n",
    "       'DebtToIncome','PrincipalBalance', 'InterestAndPenaltyBalance',\n",
    "       'PreviousRepaymentsBeforeLoan','NewCreditCustomer','Target']"
   ]
  },
  {
   "cell_type": "code",
   "execution_count": 39,
   "id": "b4267bf9",
   "metadata": {},
   "outputs": [],
   "source": [
    "df = pd.read_csv(\"Bondora_preprocessed.csv\")"
   ]
  },
  {
   "cell_type": "code",
   "execution_count": 40,
   "id": "c22b8014",
   "metadata": {},
   "outputs": [],
   "source": [
    "new = df[keep]"
   ]
  },
  {
   "cell_type": "code",
   "execution_count": 41,
   "id": "02286774",
   "metadata": {},
   "outputs": [
    {
     "data": {
      "text/html": [
       "<div>\n",
       "<style scoped>\n",
       "    .dataframe tbody tr th:only-of-type {\n",
       "        vertical-align: middle;\n",
       "    }\n",
       "\n",
       "    .dataframe tbody tr th {\n",
       "        vertical-align: top;\n",
       "    }\n",
       "\n",
       "    .dataframe thead th {\n",
       "        text-align: right;\n",
       "    }\n",
       "</style>\n",
       "<table border=\"1\" class=\"dataframe\">\n",
       "  <thead>\n",
       "    <tr style=\"text-align: right;\">\n",
       "      <th></th>\n",
       "      <th>Country</th>\n",
       "      <th>Amount</th>\n",
       "      <th>Interest</th>\n",
       "      <th>LoanDuration</th>\n",
       "      <th>MonthlyPayment</th>\n",
       "      <th>UseOfLoan</th>\n",
       "      <th>MaritalStatus</th>\n",
       "      <th>EmploymentStatus</th>\n",
       "      <th>DebtToIncome</th>\n",
       "      <th>PrincipalBalance</th>\n",
       "      <th>InterestAndPenaltyBalance</th>\n",
       "      <th>PreviousRepaymentsBeforeLoan</th>\n",
       "      <th>NewCreditCustomer</th>\n",
       "      <th>Target</th>\n",
       "    </tr>\n",
       "  </thead>\n",
       "  <tbody>\n",
       "    <tr>\n",
       "      <th>0</th>\n",
       "      <td>EE</td>\n",
       "      <td>115.0408</td>\n",
       "      <td>30.00</td>\n",
       "      <td>12</td>\n",
       "      <td>0.00</td>\n",
       "      <td>Other</td>\n",
       "      <td>Married</td>\n",
       "      <td>Fully-Employed</td>\n",
       "      <td>0.00</td>\n",
       "      <td>0.00</td>\n",
       "      <td>0.00</td>\n",
       "      <td>0.0000</td>\n",
       "      <td>True</td>\n",
       "      <td>0</td>\n",
       "    </tr>\n",
       "    <tr>\n",
       "      <th>1</th>\n",
       "      <td>EE</td>\n",
       "      <td>140.6057</td>\n",
       "      <td>25.00</td>\n",
       "      <td>1</td>\n",
       "      <td>0.00</td>\n",
       "      <td>Other</td>\n",
       "      <td>Divorced</td>\n",
       "      <td>Fully-Employed</td>\n",
       "      <td>0.00</td>\n",
       "      <td>0.00</td>\n",
       "      <td>0.00</td>\n",
       "      <td>258.6256</td>\n",
       "      <td>False</td>\n",
       "      <td>0</td>\n",
       "    </tr>\n",
       "    <tr>\n",
       "      <th>2</th>\n",
       "      <td>EE</td>\n",
       "      <td>319.5409</td>\n",
       "      <td>25.00</td>\n",
       "      <td>20</td>\n",
       "      <td>0.00</td>\n",
       "      <td>Home Improvement</td>\n",
       "      <td>Married</td>\n",
       "      <td>Fully-Employed</td>\n",
       "      <td>0.00</td>\n",
       "      <td>116.35</td>\n",
       "      <td>414.07</td>\n",
       "      <td>0.0000</td>\n",
       "      <td>True</td>\n",
       "      <td>1</td>\n",
       "    </tr>\n",
       "    <tr>\n",
       "      <th>3</th>\n",
       "      <td>EE</td>\n",
       "      <td>57.5205</td>\n",
       "      <td>45.00</td>\n",
       "      <td>15</td>\n",
       "      <td>0.00</td>\n",
       "      <td>Loan Consolidation</td>\n",
       "      <td>Single</td>\n",
       "      <td>Not_specified</td>\n",
       "      <td>0.00</td>\n",
       "      <td>0.00</td>\n",
       "      <td>0.00</td>\n",
       "      <td>0.0000</td>\n",
       "      <td>True</td>\n",
       "      <td>0</td>\n",
       "    </tr>\n",
       "    <tr>\n",
       "      <th>4</th>\n",
       "      <td>EE</td>\n",
       "      <td>319.5436</td>\n",
       "      <td>30.00</td>\n",
       "      <td>12</td>\n",
       "      <td>0.00</td>\n",
       "      <td>Vehicle</td>\n",
       "      <td>Cohabitant</td>\n",
       "      <td>Fully-Employed</td>\n",
       "      <td>0.00</td>\n",
       "      <td>0.00</td>\n",
       "      <td>0.00</td>\n",
       "      <td>0.0000</td>\n",
       "      <td>True</td>\n",
       "      <td>1</td>\n",
       "    </tr>\n",
       "    <tr>\n",
       "      <th>...</th>\n",
       "      <td>...</td>\n",
       "      <td>...</td>\n",
       "      <td>...</td>\n",
       "      <td>...</td>\n",
       "      <td>...</td>\n",
       "      <td>...</td>\n",
       "      <td>...</td>\n",
       "      <td>...</td>\n",
       "      <td>...</td>\n",
       "      <td>...</td>\n",
       "      <td>...</td>\n",
       "      <td>...</td>\n",
       "      <td>...</td>\n",
       "      <td>...</td>\n",
       "    </tr>\n",
       "    <tr>\n",
       "      <th>77389</th>\n",
       "      <td>FI</td>\n",
       "      <td>3000.0000</td>\n",
       "      <td>31.01</td>\n",
       "      <td>60</td>\n",
       "      <td>107.68</td>\n",
       "      <td>Loan Consolidation</td>\n",
       "      <td>Single</td>\n",
       "      <td>Fully-Employed</td>\n",
       "      <td>7.69</td>\n",
       "      <td>0.00</td>\n",
       "      <td>0.00</td>\n",
       "      <td>0.0000</td>\n",
       "      <td>True</td>\n",
       "      <td>1</td>\n",
       "    </tr>\n",
       "    <tr>\n",
       "      <th>77390</th>\n",
       "      <td>FI</td>\n",
       "      <td>3000.0000</td>\n",
       "      <td>18.25</td>\n",
       "      <td>60</td>\n",
       "      <td>85.33</td>\n",
       "      <td>Home Improvement</td>\n",
       "      <td>Single</td>\n",
       "      <td>Fully-Employed</td>\n",
       "      <td>31.58</td>\n",
       "      <td>0.00</td>\n",
       "      <td>0.00</td>\n",
       "      <td>389.3600</td>\n",
       "      <td>False</td>\n",
       "      <td>0</td>\n",
       "    </tr>\n",
       "    <tr>\n",
       "      <th>77391</th>\n",
       "      <td>FI</td>\n",
       "      <td>2500.0000</td>\n",
       "      <td>24.83</td>\n",
       "      <td>60</td>\n",
       "      <td>80.42</td>\n",
       "      <td>Loan Consolidation</td>\n",
       "      <td>Married</td>\n",
       "      <td>Entrepreneur</td>\n",
       "      <td>3.22</td>\n",
       "      <td>630.24</td>\n",
       "      <td>1227.98</td>\n",
       "      <td>0.0000</td>\n",
       "      <td>True</td>\n",
       "      <td>1</td>\n",
       "    </tr>\n",
       "    <tr>\n",
       "      <th>77392</th>\n",
       "      <td>EE</td>\n",
       "      <td>3000.0000</td>\n",
       "      <td>17.74</td>\n",
       "      <td>60</td>\n",
       "      <td>84.51</td>\n",
       "      <td>Other</td>\n",
       "      <td>Married</td>\n",
       "      <td>Fully-Employed</td>\n",
       "      <td>44.35</td>\n",
       "      <td>0.00</td>\n",
       "      <td>0.00</td>\n",
       "      <td>96.8000</td>\n",
       "      <td>False</td>\n",
       "      <td>1</td>\n",
       "    </tr>\n",
       "    <tr>\n",
       "      <th>77393</th>\n",
       "      <td>EE</td>\n",
       "      <td>3000.0000</td>\n",
       "      <td>30.50</td>\n",
       "      <td>60</td>\n",
       "      <td>106.74</td>\n",
       "      <td>Loan Consolidation</td>\n",
       "      <td>Single</td>\n",
       "      <td>Fully-Employed</td>\n",
       "      <td>35.03</td>\n",
       "      <td>1526.09</td>\n",
       "      <td>9019.04</td>\n",
       "      <td>242.6400</td>\n",
       "      <td>False</td>\n",
       "      <td>1</td>\n",
       "    </tr>\n",
       "  </tbody>\n",
       "</table>\n",
       "<p>77394 rows × 14 columns</p>\n",
       "</div>"
      ],
      "text/plain": [
       "      Country     Amount  Interest  LoanDuration  MonthlyPayment  \\\n",
       "0          EE   115.0408     30.00            12            0.00   \n",
       "1          EE   140.6057     25.00             1            0.00   \n",
       "2          EE   319.5409     25.00            20            0.00   \n",
       "3          EE    57.5205     45.00            15            0.00   \n",
       "4          EE   319.5436     30.00            12            0.00   \n",
       "...       ...        ...       ...           ...             ...   \n",
       "77389      FI  3000.0000     31.01            60          107.68   \n",
       "77390      FI  3000.0000     18.25            60           85.33   \n",
       "77391      FI  2500.0000     24.83            60           80.42   \n",
       "77392      EE  3000.0000     17.74            60           84.51   \n",
       "77393      EE  3000.0000     30.50            60          106.74   \n",
       "\n",
       "                UseOfLoan MaritalStatus EmploymentStatus  DebtToIncome  \\\n",
       "0                   Other       Married   Fully-Employed          0.00   \n",
       "1                   Other      Divorced   Fully-Employed          0.00   \n",
       "2        Home Improvement       Married   Fully-Employed          0.00   \n",
       "3      Loan Consolidation        Single    Not_specified          0.00   \n",
       "4                 Vehicle    Cohabitant   Fully-Employed          0.00   \n",
       "...                   ...           ...              ...           ...   \n",
       "77389  Loan Consolidation        Single   Fully-Employed          7.69   \n",
       "77390    Home Improvement        Single   Fully-Employed         31.58   \n",
       "77391  Loan Consolidation       Married     Entrepreneur          3.22   \n",
       "77392               Other       Married   Fully-Employed         44.35   \n",
       "77393  Loan Consolidation        Single   Fully-Employed         35.03   \n",
       "\n",
       "       PrincipalBalance  InterestAndPenaltyBalance  \\\n",
       "0                  0.00                       0.00   \n",
       "1                  0.00                       0.00   \n",
       "2                116.35                     414.07   \n",
       "3                  0.00                       0.00   \n",
       "4                  0.00                       0.00   \n",
       "...                 ...                        ...   \n",
       "77389              0.00                       0.00   \n",
       "77390              0.00                       0.00   \n",
       "77391            630.24                    1227.98   \n",
       "77392              0.00                       0.00   \n",
       "77393           1526.09                    9019.04   \n",
       "\n",
       "       PreviousRepaymentsBeforeLoan  NewCreditCustomer  Target  \n",
       "0                            0.0000               True       0  \n",
       "1                          258.6256              False       0  \n",
       "2                            0.0000               True       1  \n",
       "3                            0.0000               True       0  \n",
       "4                            0.0000               True       1  \n",
       "...                             ...                ...     ...  \n",
       "77389                        0.0000               True       1  \n",
       "77390                      389.3600              False       0  \n",
       "77391                        0.0000               True       1  \n",
       "77392                       96.8000              False       1  \n",
       "77393                      242.6400              False       1  \n",
       "\n",
       "[77394 rows x 14 columns]"
      ]
     },
     "execution_count": 41,
     "metadata": {},
     "output_type": "execute_result"
    }
   ],
   "source": [
    "new"
   ]
  },
  {
   "cell_type": "code",
   "execution_count": 42,
   "id": "60cbdac6",
   "metadata": {},
   "outputs": [
    {
     "data": {
      "text/plain": [
       "Country                         0\n",
       "Amount                          0\n",
       "Interest                        0\n",
       "LoanDuration                    0\n",
       "MonthlyPayment                  0\n",
       "UseOfLoan                       0\n",
       "MaritalStatus                   0\n",
       "EmploymentStatus                0\n",
       "DebtToIncome                    0\n",
       "PrincipalBalance                0\n",
       "InterestAndPenaltyBalance       0\n",
       "PreviousRepaymentsBeforeLoan    0\n",
       "NewCreditCustomer               0\n",
       "Target                          0\n",
       "dtype: int64"
      ]
     },
     "execution_count": 42,
     "metadata": {},
     "output_type": "execute_result"
    }
   ],
   "source": [
    "new.isnull().sum()"
   ]
  },
  {
   "cell_type": "code",
   "execution_count": 43,
   "id": "4cc0fc61",
   "metadata": {},
   "outputs": [
    {
     "data": {
      "text/plain": [
       "EE    39896\n",
       "FI    20677\n",
       "ES    16527\n",
       "SK      294\n",
       "Name: Country, dtype: int64"
      ]
     },
     "execution_count": 43,
     "metadata": {},
     "output_type": "execute_result"
    }
   ],
   "source": [
    "new.Country.value_counts()"
   ]
  },
  {
   "cell_type": "code",
   "execution_count": 44,
   "id": "d2498fe6",
   "metadata": {},
   "outputs": [],
   "source": [
    "new = new[new.Country != 'SK']"
   ]
  },
  {
   "cell_type": "code",
   "execution_count": 45,
   "id": "b042bf29",
   "metadata": {},
   "outputs": [
    {
     "data": {
      "text/plain": [
       "EE    39896\n",
       "FI    20677\n",
       "ES    16527\n",
       "Name: Country, dtype: int64"
      ]
     },
     "execution_count": 45,
     "metadata": {},
     "output_type": "execute_result"
    }
   ],
   "source": [
    "new.Country.value_counts()"
   ]
  },
  {
   "cell_type": "code",
   "execution_count": 46,
   "id": "1ddd86d0",
   "metadata": {},
   "outputs": [
    {
     "data": {
      "text/plain": [
       "True     48580\n",
       "False    28520\n",
       "Name: NewCreditCustomer, dtype: int64"
      ]
     },
     "execution_count": 46,
     "metadata": {},
     "output_type": "execute_result"
    }
   ],
   "source": [
    "new.NewCreditCustomer.value_counts()"
   ]
  },
  {
   "cell_type": "code",
   "execution_count": 47,
   "id": "c56a9b86",
   "metadata": {},
   "outputs": [
    {
     "data": {
      "text/plain": [
       "1    42525\n",
       "0    34575\n",
       "Name: Target, dtype: int64"
      ]
     },
     "execution_count": 47,
     "metadata": {},
     "output_type": "execute_result"
    }
   ],
   "source": [
    "new.Target.value_counts()"
   ]
  },
  {
   "cell_type": "code",
   "execution_count": 48,
   "id": "02d58730",
   "metadata": {},
   "outputs": [
    {
     "data": {
      "text/plain": [
       "1    42525\n",
       "0    34575\n",
       "Name: Target, dtype: int64"
      ]
     },
     "execution_count": 48,
     "metadata": {},
     "output_type": "execute_result"
    }
   ],
   "source": [
    "new.Target.value_counts()"
   ]
  },
  {
   "cell_type": "code",
   "execution_count": 49,
   "id": "7b9ac628",
   "metadata": {},
   "outputs": [],
   "source": [
    "new.to_csv(\"Modelling_data.csv\")"
   ]
  },
  {
   "cell_type": "code",
   "execution_count": null,
   "id": "798d078f",
   "metadata": {},
   "outputs": [],
   "source": []
  },
  {
   "cell_type": "code",
   "execution_count": 2,
   "id": "1396f1a9",
   "metadata": {
    "ExecuteTime": {
     "end_time": "2022-11-04T08:21:37.818494Z",
     "start_time": "2022-11-04T08:21:37.788420Z"
    }
   },
   "outputs": [],
   "source": [
    "from sklearn.pipeline import Pipeline\n",
    "from sklearn.preprocessing import LabelEncoder\n",
    "from sklearn_pandas import DataFrameMapper"
   ]
  },
  {
   "cell_type": "code",
   "execution_count": 3,
   "id": "9e69804d",
   "metadata": {
    "ExecuteTime": {
     "end_time": "2022-11-04T08:21:38.862514Z",
     "start_time": "2022-11-04T08:21:38.615953Z"
    }
   },
   "outputs": [
    {
     "data": {
      "text/html": [
       "<div>\n",
       "<style scoped>\n",
       "    .dataframe tbody tr th:only-of-type {\n",
       "        vertical-align: middle;\n",
       "    }\n",
       "\n",
       "    .dataframe tbody tr th {\n",
       "        vertical-align: top;\n",
       "    }\n",
       "\n",
       "    .dataframe thead th {\n",
       "        text-align: right;\n",
       "    }\n",
       "</style>\n",
       "<table border=\"1\" class=\"dataframe\">\n",
       "  <thead>\n",
       "    <tr style=\"text-align: right;\">\n",
       "      <th></th>\n",
       "      <th>Country</th>\n",
       "      <th>Amount</th>\n",
       "      <th>Interest</th>\n",
       "      <th>LoanDuration</th>\n",
       "      <th>MonthlyPayment</th>\n",
       "      <th>UseOfLoan</th>\n",
       "      <th>MaritalStatus</th>\n",
       "      <th>EmploymentStatus</th>\n",
       "      <th>DebtToIncome</th>\n",
       "      <th>PrincipalBalance</th>\n",
       "      <th>InterestAndPenaltyBalance</th>\n",
       "      <th>PreviousRepaymentsBeforeLoan</th>\n",
       "      <th>NewCreditCustomer</th>\n",
       "      <th>Target</th>\n",
       "    </tr>\n",
       "  </thead>\n",
       "  <tbody>\n",
       "    <tr>\n",
       "      <th>0</th>\n",
       "      <td>EE</td>\n",
       "      <td>115.0408</td>\n",
       "      <td>30.00</td>\n",
       "      <td>12</td>\n",
       "      <td>0.00</td>\n",
       "      <td>Other</td>\n",
       "      <td>Married</td>\n",
       "      <td>Fully-Employed</td>\n",
       "      <td>0.00</td>\n",
       "      <td>0.00</td>\n",
       "      <td>0.00</td>\n",
       "      <td>0.0000</td>\n",
       "      <td>True</td>\n",
       "      <td>0</td>\n",
       "    </tr>\n",
       "    <tr>\n",
       "      <th>1</th>\n",
       "      <td>EE</td>\n",
       "      <td>140.6057</td>\n",
       "      <td>25.00</td>\n",
       "      <td>1</td>\n",
       "      <td>0.00</td>\n",
       "      <td>Other</td>\n",
       "      <td>Divorced</td>\n",
       "      <td>Fully-Employed</td>\n",
       "      <td>0.00</td>\n",
       "      <td>0.00</td>\n",
       "      <td>0.00</td>\n",
       "      <td>258.6256</td>\n",
       "      <td>False</td>\n",
       "      <td>0</td>\n",
       "    </tr>\n",
       "    <tr>\n",
       "      <th>2</th>\n",
       "      <td>EE</td>\n",
       "      <td>319.5409</td>\n",
       "      <td>25.00</td>\n",
       "      <td>20</td>\n",
       "      <td>0.00</td>\n",
       "      <td>Home Improvement</td>\n",
       "      <td>Married</td>\n",
       "      <td>Fully-Employed</td>\n",
       "      <td>0.00</td>\n",
       "      <td>116.35</td>\n",
       "      <td>414.07</td>\n",
       "      <td>0.0000</td>\n",
       "      <td>True</td>\n",
       "      <td>1</td>\n",
       "    </tr>\n",
       "    <tr>\n",
       "      <th>3</th>\n",
       "      <td>EE</td>\n",
       "      <td>57.5205</td>\n",
       "      <td>45.00</td>\n",
       "      <td>15</td>\n",
       "      <td>0.00</td>\n",
       "      <td>Loan Consolidation</td>\n",
       "      <td>Single</td>\n",
       "      <td>Not_specified</td>\n",
       "      <td>0.00</td>\n",
       "      <td>0.00</td>\n",
       "      <td>0.00</td>\n",
       "      <td>0.0000</td>\n",
       "      <td>True</td>\n",
       "      <td>0</td>\n",
       "    </tr>\n",
       "    <tr>\n",
       "      <th>4</th>\n",
       "      <td>EE</td>\n",
       "      <td>319.5436</td>\n",
       "      <td>30.00</td>\n",
       "      <td>12</td>\n",
       "      <td>0.00</td>\n",
       "      <td>Vehicle</td>\n",
       "      <td>Cohabitant</td>\n",
       "      <td>Fully-Employed</td>\n",
       "      <td>0.00</td>\n",
       "      <td>0.00</td>\n",
       "      <td>0.00</td>\n",
       "      <td>0.0000</td>\n",
       "      <td>True</td>\n",
       "      <td>1</td>\n",
       "    </tr>\n",
       "    <tr>\n",
       "      <th>...</th>\n",
       "      <td>...</td>\n",
       "      <td>...</td>\n",
       "      <td>...</td>\n",
       "      <td>...</td>\n",
       "      <td>...</td>\n",
       "      <td>...</td>\n",
       "      <td>...</td>\n",
       "      <td>...</td>\n",
       "      <td>...</td>\n",
       "      <td>...</td>\n",
       "      <td>...</td>\n",
       "      <td>...</td>\n",
       "      <td>...</td>\n",
       "      <td>...</td>\n",
       "    </tr>\n",
       "    <tr>\n",
       "      <th>77095</th>\n",
       "      <td>FI</td>\n",
       "      <td>3000.0000</td>\n",
       "      <td>31.01</td>\n",
       "      <td>60</td>\n",
       "      <td>107.68</td>\n",
       "      <td>Loan Consolidation</td>\n",
       "      <td>Single</td>\n",
       "      <td>Fully-Employed</td>\n",
       "      <td>7.69</td>\n",
       "      <td>0.00</td>\n",
       "      <td>0.00</td>\n",
       "      <td>0.0000</td>\n",
       "      <td>True</td>\n",
       "      <td>1</td>\n",
       "    </tr>\n",
       "    <tr>\n",
       "      <th>77096</th>\n",
       "      <td>FI</td>\n",
       "      <td>3000.0000</td>\n",
       "      <td>18.25</td>\n",
       "      <td>60</td>\n",
       "      <td>85.33</td>\n",
       "      <td>Home Improvement</td>\n",
       "      <td>Single</td>\n",
       "      <td>Fully-Employed</td>\n",
       "      <td>31.58</td>\n",
       "      <td>0.00</td>\n",
       "      <td>0.00</td>\n",
       "      <td>389.3600</td>\n",
       "      <td>False</td>\n",
       "      <td>0</td>\n",
       "    </tr>\n",
       "    <tr>\n",
       "      <th>77097</th>\n",
       "      <td>FI</td>\n",
       "      <td>2500.0000</td>\n",
       "      <td>24.83</td>\n",
       "      <td>60</td>\n",
       "      <td>80.42</td>\n",
       "      <td>Loan Consolidation</td>\n",
       "      <td>Married</td>\n",
       "      <td>Entrepreneur</td>\n",
       "      <td>3.22</td>\n",
       "      <td>630.24</td>\n",
       "      <td>1227.98</td>\n",
       "      <td>0.0000</td>\n",
       "      <td>True</td>\n",
       "      <td>1</td>\n",
       "    </tr>\n",
       "    <tr>\n",
       "      <th>77098</th>\n",
       "      <td>EE</td>\n",
       "      <td>3000.0000</td>\n",
       "      <td>17.74</td>\n",
       "      <td>60</td>\n",
       "      <td>84.51</td>\n",
       "      <td>Other</td>\n",
       "      <td>Married</td>\n",
       "      <td>Fully-Employed</td>\n",
       "      <td>44.35</td>\n",
       "      <td>0.00</td>\n",
       "      <td>0.00</td>\n",
       "      <td>96.8000</td>\n",
       "      <td>False</td>\n",
       "      <td>1</td>\n",
       "    </tr>\n",
       "    <tr>\n",
       "      <th>77099</th>\n",
       "      <td>EE</td>\n",
       "      <td>3000.0000</td>\n",
       "      <td>30.50</td>\n",
       "      <td>60</td>\n",
       "      <td>106.74</td>\n",
       "      <td>Loan Consolidation</td>\n",
       "      <td>Single</td>\n",
       "      <td>Fully-Employed</td>\n",
       "      <td>35.03</td>\n",
       "      <td>1526.09</td>\n",
       "      <td>9019.04</td>\n",
       "      <td>242.6400</td>\n",
       "      <td>False</td>\n",
       "      <td>1</td>\n",
       "    </tr>\n",
       "  </tbody>\n",
       "</table>\n",
       "<p>77100 rows × 14 columns</p>\n",
       "</div>"
      ],
      "text/plain": [
       "      Country     Amount  Interest  LoanDuration  MonthlyPayment  \\\n",
       "0          EE   115.0408     30.00            12            0.00   \n",
       "1          EE   140.6057     25.00             1            0.00   \n",
       "2          EE   319.5409     25.00            20            0.00   \n",
       "3          EE    57.5205     45.00            15            0.00   \n",
       "4          EE   319.5436     30.00            12            0.00   \n",
       "...       ...        ...       ...           ...             ...   \n",
       "77095      FI  3000.0000     31.01            60          107.68   \n",
       "77096      FI  3000.0000     18.25            60           85.33   \n",
       "77097      FI  2500.0000     24.83            60           80.42   \n",
       "77098      EE  3000.0000     17.74            60           84.51   \n",
       "77099      EE  3000.0000     30.50            60          106.74   \n",
       "\n",
       "                UseOfLoan MaritalStatus EmploymentStatus  DebtToIncome  \\\n",
       "0                   Other       Married   Fully-Employed          0.00   \n",
       "1                   Other      Divorced   Fully-Employed          0.00   \n",
       "2        Home Improvement       Married   Fully-Employed          0.00   \n",
       "3      Loan Consolidation        Single    Not_specified          0.00   \n",
       "4                 Vehicle    Cohabitant   Fully-Employed          0.00   \n",
       "...                   ...           ...              ...           ...   \n",
       "77095  Loan Consolidation        Single   Fully-Employed          7.69   \n",
       "77096    Home Improvement        Single   Fully-Employed         31.58   \n",
       "77097  Loan Consolidation       Married     Entrepreneur          3.22   \n",
       "77098               Other       Married   Fully-Employed         44.35   \n",
       "77099  Loan Consolidation        Single   Fully-Employed         35.03   \n",
       "\n",
       "       PrincipalBalance  InterestAndPenaltyBalance  \\\n",
       "0                  0.00                       0.00   \n",
       "1                  0.00                       0.00   \n",
       "2                116.35                     414.07   \n",
       "3                  0.00                       0.00   \n",
       "4                  0.00                       0.00   \n",
       "...                 ...                        ...   \n",
       "77095              0.00                       0.00   \n",
       "77096              0.00                       0.00   \n",
       "77097            630.24                    1227.98   \n",
       "77098              0.00                       0.00   \n",
       "77099           1526.09                    9019.04   \n",
       "\n",
       "       PreviousRepaymentsBeforeLoan  NewCreditCustomer  Target  \n",
       "0                            0.0000               True       0  \n",
       "1                          258.6256              False       0  \n",
       "2                            0.0000               True       1  \n",
       "3                            0.0000               True       0  \n",
       "4                            0.0000               True       1  \n",
       "...                             ...                ...     ...  \n",
       "77095                        0.0000               True       1  \n",
       "77096                      389.3600              False       0  \n",
       "77097                        0.0000               True       1  \n",
       "77098                       96.8000              False       1  \n",
       "77099                      242.6400              False       1  \n",
       "\n",
       "[77100 rows x 14 columns]"
      ]
     },
     "execution_count": 3,
     "metadata": {},
     "output_type": "execute_result"
    }
   ],
   "source": [
    "bon = pd.read_csv(\"Modelling_data.csv\")\n",
    "bon.drop(columns='Unnamed: 0',inplace=True)\n",
    "bon"
   ]
  },
  {
   "cell_type": "code",
   "execution_count": 4,
   "id": "78a597c4",
   "metadata": {
    "ExecuteTime": {
     "end_time": "2022-11-04T08:21:39.886962Z",
     "start_time": "2022-11-04T08:21:39.868744Z"
    }
   },
   "outputs": [
    {
     "data": {
      "text/plain": [
       "True     48580\n",
       "False    28520\n",
       "Name: NewCreditCustomer, dtype: int64"
      ]
     },
     "execution_count": 4,
     "metadata": {},
     "output_type": "execute_result"
    }
   ],
   "source": [
    "bon.NewCreditCustomer.value_counts()"
   ]
  },
  {
   "cell_type": "code",
   "execution_count": 5,
   "id": "0797ed52",
   "metadata": {
    "ExecuteTime": {
     "end_time": "2022-11-04T08:21:40.851311Z",
     "start_time": "2022-11-04T08:21:40.761895Z"
    }
   },
   "outputs": [
    {
     "data": {
      "text/html": [
       "<div>\n",
       "<style scoped>\n",
       "    .dataframe tbody tr th:only-of-type {\n",
       "        vertical-align: middle;\n",
       "    }\n",
       "\n",
       "    .dataframe tbody tr th {\n",
       "        vertical-align: top;\n",
       "    }\n",
       "\n",
       "    .dataframe thead th {\n",
       "        text-align: right;\n",
       "    }\n",
       "</style>\n",
       "<table border=\"1\" class=\"dataframe\">\n",
       "  <thead>\n",
       "    <tr style=\"text-align: right;\">\n",
       "      <th></th>\n",
       "      <th>Amount</th>\n",
       "      <th>Interest</th>\n",
       "      <th>LoanDuration</th>\n",
       "      <th>MonthlyPayment</th>\n",
       "      <th>DebtToIncome</th>\n",
       "      <th>PrincipalBalance</th>\n",
       "      <th>InterestAndPenaltyBalance</th>\n",
       "      <th>PreviousRepaymentsBeforeLoan</th>\n",
       "      <th>Target</th>\n",
       "    </tr>\n",
       "  </thead>\n",
       "  <tbody>\n",
       "    <tr>\n",
       "      <th>count</th>\n",
       "      <td>77100.000000</td>\n",
       "      <td>77100.000000</td>\n",
       "      <td>77100.000000</td>\n",
       "      <td>77100.000000</td>\n",
       "      <td>77100.000000</td>\n",
       "      <td>77100.000000</td>\n",
       "      <td>77100.000000</td>\n",
       "      <td>77100.000000</td>\n",
       "      <td>77100.000000</td>\n",
       "    </tr>\n",
       "    <tr>\n",
       "      <th>mean</th>\n",
       "      <td>2472.418571</td>\n",
       "      <td>40.346683</td>\n",
       "      <td>44.412646</td>\n",
       "      <td>119.655540</td>\n",
       "      <td>11.972109</td>\n",
       "      <td>1370.019173</td>\n",
       "      <td>1180.962873</td>\n",
       "      <td>648.617883</td>\n",
       "      <td>0.551556</td>\n",
       "    </tr>\n",
       "    <tr>\n",
       "      <th>std</th>\n",
       "      <td>2164.356324</td>\n",
       "      <td>30.666013</td>\n",
       "      <td>16.415282</td>\n",
       "      <td>130.967402</td>\n",
       "      <td>18.841391</td>\n",
       "      <td>1943.612441</td>\n",
       "      <td>3111.557320</td>\n",
       "      <td>1840.327433</td>\n",
       "      <td>0.497338</td>\n",
       "    </tr>\n",
       "    <tr>\n",
       "      <th>min</th>\n",
       "      <td>6.390000</td>\n",
       "      <td>3.000000</td>\n",
       "      <td>1.000000</td>\n",
       "      <td>0.000000</td>\n",
       "      <td>0.000000</td>\n",
       "      <td>-34.200000</td>\n",
       "      <td>-2.660000</td>\n",
       "      <td>0.000000</td>\n",
       "      <td>0.000000</td>\n",
       "    </tr>\n",
       "    <tr>\n",
       "      <th>25%</th>\n",
       "      <td>740.000000</td>\n",
       "      <td>23.380000</td>\n",
       "      <td>36.000000</td>\n",
       "      <td>25.440000</td>\n",
       "      <td>0.000000</td>\n",
       "      <td>0.000000</td>\n",
       "      <td>0.000000</td>\n",
       "      <td>0.000000</td>\n",
       "      <td>0.000000</td>\n",
       "    </tr>\n",
       "    <tr>\n",
       "      <th>50%</th>\n",
       "      <td>2020.000000</td>\n",
       "      <td>32.000000</td>\n",
       "      <td>48.000000</td>\n",
       "      <td>90.340000</td>\n",
       "      <td>0.000000</td>\n",
       "      <td>515.375000</td>\n",
       "      <td>83.225000</td>\n",
       "      <td>0.000000</td>\n",
       "      <td>1.000000</td>\n",
       "    </tr>\n",
       "    <tr>\n",
       "      <th>75%</th>\n",
       "      <td>3185.000000</td>\n",
       "      <td>50.450000</td>\n",
       "      <td>60.000000</td>\n",
       "      <td>162.920000</td>\n",
       "      <td>20.710000</td>\n",
       "      <td>2111.890000</td>\n",
       "      <td>1064.000000</td>\n",
       "      <td>371.750000</td>\n",
       "      <td>1.000000</td>\n",
       "    </tr>\n",
       "    <tr>\n",
       "      <th>max</th>\n",
       "      <td>10632.000000</td>\n",
       "      <td>264.310000</td>\n",
       "      <td>60.000000</td>\n",
       "      <td>2368.540000</td>\n",
       "      <td>198.020000</td>\n",
       "      <td>10632.000000</td>\n",
       "      <td>64494.770000</td>\n",
       "      <td>34077.420000</td>\n",
       "      <td>1.000000</td>\n",
       "    </tr>\n",
       "  </tbody>\n",
       "</table>\n",
       "</div>"
      ],
      "text/plain": [
       "             Amount      Interest  LoanDuration  MonthlyPayment  DebtToIncome  \\\n",
       "count  77100.000000  77100.000000  77100.000000    77100.000000  77100.000000   \n",
       "mean    2472.418571     40.346683     44.412646      119.655540     11.972109   \n",
       "std     2164.356324     30.666013     16.415282      130.967402     18.841391   \n",
       "min        6.390000      3.000000      1.000000        0.000000      0.000000   \n",
       "25%      740.000000     23.380000     36.000000       25.440000      0.000000   \n",
       "50%     2020.000000     32.000000     48.000000       90.340000      0.000000   \n",
       "75%     3185.000000     50.450000     60.000000      162.920000     20.710000   \n",
       "max    10632.000000    264.310000     60.000000     2368.540000    198.020000   \n",
       "\n",
       "       PrincipalBalance  InterestAndPenaltyBalance  \\\n",
       "count      77100.000000               77100.000000   \n",
       "mean        1370.019173                1180.962873   \n",
       "std         1943.612441                3111.557320   \n",
       "min          -34.200000                  -2.660000   \n",
       "25%            0.000000                   0.000000   \n",
       "50%          515.375000                  83.225000   \n",
       "75%         2111.890000                1064.000000   \n",
       "max        10632.000000               64494.770000   \n",
       "\n",
       "       PreviousRepaymentsBeforeLoan        Target  \n",
       "count                  77100.000000  77100.000000  \n",
       "mean                     648.617883      0.551556  \n",
       "std                     1840.327433      0.497338  \n",
       "min                        0.000000      0.000000  \n",
       "25%                        0.000000      0.000000  \n",
       "50%                        0.000000      1.000000  \n",
       "75%                      371.750000      1.000000  \n",
       "max                    34077.420000      1.000000  "
      ]
     },
     "execution_count": 5,
     "metadata": {},
     "output_type": "execute_result"
    }
   ],
   "source": [
    "bon.describe()"
   ]
  },
  {
   "cell_type": "code",
   "execution_count": 6,
   "id": "18ca8431",
   "metadata": {
    "ExecuteTime": {
     "end_time": "2022-11-04T08:21:41.353896Z",
     "start_time": "2022-11-04T08:21:41.341609Z"
    }
   },
   "outputs": [],
   "source": [
    "X = bon.drop(\"Target\",axis=1)\n",
    "y = bon[\"Target\"]"
   ]
  },
  {
   "cell_type": "code",
   "execution_count": 8,
   "id": "33178301",
   "metadata": {
    "ExecuteTime": {
     "end_time": "2022-11-04T08:21:46.921264Z",
     "start_time": "2022-11-04T08:21:46.911817Z"
    }
   },
   "outputs": [
    {
     "data": {
      "text/plain": [
       "0        0\n",
       "1        0\n",
       "2        1\n",
       "3        0\n",
       "4        1\n",
       "        ..\n",
       "77095    1\n",
       "77096    0\n",
       "77097    1\n",
       "77098    1\n",
       "77099    1\n",
       "Name: Target, Length: 77100, dtype: int64"
      ]
     },
     "execution_count": 8,
     "metadata": {},
     "output_type": "execute_result"
    }
   ],
   "source": [
    "y"
   ]
  },
  {
   "cell_type": "code",
   "execution_count": 9,
   "id": "688733f7",
   "metadata": {
    "ExecuteTime": {
     "end_time": "2022-11-04T08:21:47.929042Z",
     "start_time": "2022-11-04T08:21:47.923190Z"
    }
   },
   "outputs": [],
   "source": [
    "m = DataFrameMapper([([\"Country\",LabelEncoder()]),([\"UseOfLoan\",LabelEncoder()]),\n",
    "                     ([\"MaritalStatus\",LabelEncoder()]),\n",
    "                     ([\"EmploymentStatus\",LabelEncoder()])\n",
    "                    ])"
   ]
  },
  {
   "cell_type": "code",
   "execution_count": 10,
   "id": "2c62df03",
   "metadata": {
    "ExecuteTime": {
     "end_time": "2022-11-04T08:21:48.649450Z",
     "start_time": "2022-11-04T08:21:48.644794Z"
    }
   },
   "outputs": [],
   "source": [
    "classifier = []\n",
    "classifier.append((\"mapper\",m))\n",
    "classifier.append((\"model\", XGBClassifier(min_child_weight=1, max_depth = 12,learning_rate=0.2,gamma= 0.3,\n",
    " colsample_bytree=0.5)))"
   ]
  },
  {
   "cell_type": "code",
   "execution_count": 11,
   "id": "f213db52",
   "metadata": {
    "ExecuteTime": {
     "end_time": "2022-11-04T08:21:49.322386Z",
     "start_time": "2022-11-04T08:21:49.304258Z"
    }
   },
   "outputs": [
    {
     "data": {
      "text/plain": [
       "[('mapper',\n",
       "  DataFrameMapper(drop_cols=[],\n",
       "                  features=[['Country', LabelEncoder()],\n",
       "                            ['UseOfLoan', LabelEncoder()],\n",
       "                            ['MaritalStatus', LabelEncoder()],\n",
       "                            ['EmploymentStatus', LabelEncoder()]])),\n",
       " ('model',\n",
       "  XGBClassifier(base_score=None, booster=None, callbacks=None,\n",
       "                colsample_bylevel=None, colsample_bynode=None,\n",
       "                colsample_bytree=0.5, early_stopping_rounds=None,\n",
       "                enable_categorical=False, eval_metric=None, gamma=0.3,\n",
       "                gpu_id=None, grow_policy=None, importance_type=None,\n",
       "                interaction_constraints=None, learning_rate=0.2, max_bin=None,\n",
       "                max_cat_to_onehot=None, max_delta_step=None, max_depth=12,\n",
       "                max_leaves=None, min_child_weight=1, missing=nan,\n",
       "                monotone_constraints=None, n_estimators=100, n_jobs=None,\n",
       "                num_parallel_tree=None, predictor=None, random_state=None,\n",
       "                reg_alpha=None, reg_lambda=None, ...))]"
      ]
     },
     "execution_count": 11,
     "metadata": {},
     "output_type": "execute_result"
    }
   ],
   "source": [
    "classifier"
   ]
  },
  {
   "cell_type": "code",
   "execution_count": 12,
   "id": "404d9b19",
   "metadata": {
    "ExecuteTime": {
     "end_time": "2022-11-04T08:21:49.989403Z",
     "start_time": "2022-11-04T08:21:49.984076Z"
    }
   },
   "outputs": [],
   "source": [
    "model= Pipeline(classifier)"
   ]
  },
  {
   "cell_type": "code",
   "execution_count": 13,
   "id": "9b1fc991",
   "metadata": {
    "ExecuteTime": {
     "end_time": "2022-11-04T08:21:51.069094Z",
     "start_time": "2022-11-04T08:21:50.952014Z"
    }
   },
   "outputs": [
    {
     "data": {
      "text/html": [
       "<style>#sk-container-id-1 {color: black;background-color: white;}#sk-container-id-1 pre{padding: 0;}#sk-container-id-1 div.sk-toggleable {background-color: white;}#sk-container-id-1 label.sk-toggleable__label {cursor: pointer;display: block;width: 100%;margin-bottom: 0;padding: 0.3em;box-sizing: border-box;text-align: center;}#sk-container-id-1 label.sk-toggleable__label-arrow:before {content: \"▸\";float: left;margin-right: 0.25em;color: #696969;}#sk-container-id-1 label.sk-toggleable__label-arrow:hover:before {color: black;}#sk-container-id-1 div.sk-estimator:hover label.sk-toggleable__label-arrow:before {color: black;}#sk-container-id-1 div.sk-toggleable__content {max-height: 0;max-width: 0;overflow: hidden;text-align: left;background-color: #f0f8ff;}#sk-container-id-1 div.sk-toggleable__content pre {margin: 0.2em;color: black;border-radius: 0.25em;background-color: #f0f8ff;}#sk-container-id-1 input.sk-toggleable__control:checked~div.sk-toggleable__content {max-height: 200px;max-width: 100%;overflow: auto;}#sk-container-id-1 input.sk-toggleable__control:checked~label.sk-toggleable__label-arrow:before {content: \"▾\";}#sk-container-id-1 div.sk-estimator input.sk-toggleable__control:checked~label.sk-toggleable__label {background-color: #d4ebff;}#sk-container-id-1 div.sk-label input.sk-toggleable__control:checked~label.sk-toggleable__label {background-color: #d4ebff;}#sk-container-id-1 input.sk-hidden--visually {border: 0;clip: rect(1px 1px 1px 1px);clip: rect(1px, 1px, 1px, 1px);height: 1px;margin: -1px;overflow: hidden;padding: 0;position: absolute;width: 1px;}#sk-container-id-1 div.sk-estimator {font-family: monospace;background-color: #f0f8ff;border: 1px dotted black;border-radius: 0.25em;box-sizing: border-box;margin-bottom: 0.5em;}#sk-container-id-1 div.sk-estimator:hover {background-color: #d4ebff;}#sk-container-id-1 div.sk-parallel-item::after {content: \"\";width: 100%;border-bottom: 1px solid gray;flex-grow: 1;}#sk-container-id-1 div.sk-label:hover label.sk-toggleable__label {background-color: #d4ebff;}#sk-container-id-1 div.sk-serial::before {content: \"\";position: absolute;border-left: 1px solid gray;box-sizing: border-box;top: 0;bottom: 0;left: 50%;z-index: 0;}#sk-container-id-1 div.sk-serial {display: flex;flex-direction: column;align-items: center;background-color: white;padding-right: 0.2em;padding-left: 0.2em;position: relative;}#sk-container-id-1 div.sk-item {position: relative;z-index: 1;}#sk-container-id-1 div.sk-parallel {display: flex;align-items: stretch;justify-content: center;background-color: white;position: relative;}#sk-container-id-1 div.sk-item::before, #sk-container-id-1 div.sk-parallel-item::before {content: \"\";position: absolute;border-left: 1px solid gray;box-sizing: border-box;top: 0;bottom: 0;left: 50%;z-index: -1;}#sk-container-id-1 div.sk-parallel-item {display: flex;flex-direction: column;z-index: 1;position: relative;background-color: white;}#sk-container-id-1 div.sk-parallel-item:first-child::after {align-self: flex-end;width: 50%;}#sk-container-id-1 div.sk-parallel-item:last-child::after {align-self: flex-start;width: 50%;}#sk-container-id-1 div.sk-parallel-item:only-child::after {width: 0;}#sk-container-id-1 div.sk-dashed-wrapped {border: 1px dashed gray;margin: 0 0.4em 0.5em 0.4em;box-sizing: border-box;padding-bottom: 0.4em;background-color: white;}#sk-container-id-1 div.sk-label label {font-family: monospace;font-weight: bold;display: inline-block;line-height: 1.2em;}#sk-container-id-1 div.sk-label-container {text-align: center;}#sk-container-id-1 div.sk-container {/* jupyter's `normalize.less` sets `[hidden] { display: none; }` but bootstrap.min.css set `[hidden] { display: none !important; }` so we also need the `!important` here to be able to override the default hidden behavior on the sphinx rendered scikit-learn.org. See: https://github.com/scikit-learn/scikit-learn/issues/21755 */display: inline-block !important;position: relative;}#sk-container-id-1 div.sk-text-repr-fallback {display: none;}</style><div id=\"sk-container-id-1\" class=\"sk-top-container\"><div class=\"sk-text-repr-fallback\"><pre>Pipeline(steps=[(&#x27;mapper&#x27;,\n",
       "                 DataFrameMapper(drop_cols=[],\n",
       "                                 features=[[&#x27;Country&#x27;, LabelEncoder()],\n",
       "                                           [&#x27;UseOfLoan&#x27;, LabelEncoder()],\n",
       "                                           [&#x27;MaritalStatus&#x27;, LabelEncoder()],\n",
       "                                           [&#x27;EmploymentStatus&#x27;,\n",
       "                                            LabelEncoder()]])),\n",
       "                (&#x27;model&#x27;,\n",
       "                 XGBClassifier(base_score=None, booster=None, callbacks=None,\n",
       "                               colsample_bylevel=None, colsample_bynode=None,\n",
       "                               colsample_bytree=0.5, early_stopping_rounds=No...\n",
       "                               gamma=0.3, gpu_id=None, grow_policy=None,\n",
       "                               importance_type=None,\n",
       "                               interaction_constraints=None, learning_rate=0.2,\n",
       "                               max_bin=None, max_cat_to_onehot=None,\n",
       "                               max_delta_step=None, max_depth=12,\n",
       "                               max_leaves=None, min_child_weight=1, missing=nan,\n",
       "                               monotone_constraints=None, n_estimators=100,\n",
       "                               n_jobs=None, num_parallel_tree=None,\n",
       "                               predictor=None, random_state=None,\n",
       "                               reg_alpha=None, reg_lambda=None, ...))])</pre><b>In a Jupyter environment, please rerun this cell to show the HTML representation or trust the notebook. <br />On GitHub, the HTML representation is unable to render, please try loading this page with nbviewer.org.</b></div><div class=\"sk-container\" hidden><div class=\"sk-item sk-dashed-wrapped\"><div class=\"sk-label-container\"><div class=\"sk-label sk-toggleable\"><input class=\"sk-toggleable__control sk-hidden--visually\" id=\"sk-estimator-id-1\" type=\"checkbox\" ><label for=\"sk-estimator-id-1\" class=\"sk-toggleable__label sk-toggleable__label-arrow\">Pipeline</label><div class=\"sk-toggleable__content\"><pre>Pipeline(steps=[(&#x27;mapper&#x27;,\n",
       "                 DataFrameMapper(drop_cols=[],\n",
       "                                 features=[[&#x27;Country&#x27;, LabelEncoder()],\n",
       "                                           [&#x27;UseOfLoan&#x27;, LabelEncoder()],\n",
       "                                           [&#x27;MaritalStatus&#x27;, LabelEncoder()],\n",
       "                                           [&#x27;EmploymentStatus&#x27;,\n",
       "                                            LabelEncoder()]])),\n",
       "                (&#x27;model&#x27;,\n",
       "                 XGBClassifier(base_score=None, booster=None, callbacks=None,\n",
       "                               colsample_bylevel=None, colsample_bynode=None,\n",
       "                               colsample_bytree=0.5, early_stopping_rounds=No...\n",
       "                               gamma=0.3, gpu_id=None, grow_policy=None,\n",
       "                               importance_type=None,\n",
       "                               interaction_constraints=None, learning_rate=0.2,\n",
       "                               max_bin=None, max_cat_to_onehot=None,\n",
       "                               max_delta_step=None, max_depth=12,\n",
       "                               max_leaves=None, min_child_weight=1, missing=nan,\n",
       "                               monotone_constraints=None, n_estimators=100,\n",
       "                               n_jobs=None, num_parallel_tree=None,\n",
       "                               predictor=None, random_state=None,\n",
       "                               reg_alpha=None, reg_lambda=None, ...))])</pre></div></div></div><div class=\"sk-serial\"><div class=\"sk-item\"><div class=\"sk-estimator sk-toggleable\"><input class=\"sk-toggleable__control sk-hidden--visually\" id=\"sk-estimator-id-2\" type=\"checkbox\" ><label for=\"sk-estimator-id-2\" class=\"sk-toggleable__label sk-toggleable__label-arrow\">DataFrameMapper</label><div class=\"sk-toggleable__content\"><pre>DataFrameMapper(drop_cols=[],\n",
       "                features=[[&#x27;Country&#x27;, LabelEncoder()],\n",
       "                          [&#x27;UseOfLoan&#x27;, LabelEncoder()],\n",
       "                          [&#x27;MaritalStatus&#x27;, LabelEncoder()],\n",
       "                          [&#x27;EmploymentStatus&#x27;, LabelEncoder()]])</pre></div></div></div><div class=\"sk-item\"><div class=\"sk-estimator sk-toggleable\"><input class=\"sk-toggleable__control sk-hidden--visually\" id=\"sk-estimator-id-3\" type=\"checkbox\" ><label for=\"sk-estimator-id-3\" class=\"sk-toggleable__label sk-toggleable__label-arrow\">XGBClassifier</label><div class=\"sk-toggleable__content\"><pre>XGBClassifier(base_score=None, booster=None, callbacks=None,\n",
       "              colsample_bylevel=None, colsample_bynode=None,\n",
       "              colsample_bytree=0.5, early_stopping_rounds=None,\n",
       "              enable_categorical=False, eval_metric=None, gamma=0.3,\n",
       "              gpu_id=None, grow_policy=None, importance_type=None,\n",
       "              interaction_constraints=None, learning_rate=0.2, max_bin=None,\n",
       "              max_cat_to_onehot=None, max_delta_step=None, max_depth=12,\n",
       "              max_leaves=None, min_child_weight=1, missing=nan,\n",
       "              monotone_constraints=None, n_estimators=100, n_jobs=None,\n",
       "              num_parallel_tree=None, predictor=None, random_state=None,\n",
       "              reg_alpha=None, reg_lambda=None, ...)</pre></div></div></div></div></div></div></div>"
      ],
      "text/plain": [
       "Pipeline(steps=[('mapper',\n",
       "                 DataFrameMapper(drop_cols=[],\n",
       "                                 features=[['Country', LabelEncoder()],\n",
       "                                           ['UseOfLoan', LabelEncoder()],\n",
       "                                           ['MaritalStatus', LabelEncoder()],\n",
       "                                           ['EmploymentStatus',\n",
       "                                            LabelEncoder()]])),\n",
       "                ('model',\n",
       "                 XGBClassifier(base_score=None, booster=None, callbacks=None,\n",
       "                               colsample_bylevel=None, colsample_bynode=None,\n",
       "                               colsample_bytree=0.5, early_stopping_rounds=No...\n",
       "                               gamma=0.3, gpu_id=None, grow_policy=None,\n",
       "                               importance_type=None,\n",
       "                               interaction_constraints=None, learning_rate=0.2,\n",
       "                               max_bin=None, max_cat_to_onehot=None,\n",
       "                               max_delta_step=None, max_depth=12,\n",
       "                               max_leaves=None, min_child_weight=1, missing=nan,\n",
       "                               monotone_constraints=None, n_estimators=100,\n",
       "                               n_jobs=None, num_parallel_tree=None,\n",
       "                               predictor=None, random_state=None,\n",
       "                               reg_alpha=None, reg_lambda=None, ...))])"
      ]
     },
     "execution_count": 13,
     "metadata": {},
     "output_type": "execute_result"
    }
   ],
   "source": [
    "model"
   ]
  },
  {
   "cell_type": "code",
   "execution_count": 14,
   "id": "3823091b",
   "metadata": {
    "ExecuteTime": {
     "end_time": "2022-11-04T08:21:54.575944Z",
     "start_time": "2022-11-04T08:21:51.860572Z"
    }
   },
   "outputs": [
    {
     "data": {
      "text/html": [
       "<style>#sk-container-id-2 {color: black;background-color: white;}#sk-container-id-2 pre{padding: 0;}#sk-container-id-2 div.sk-toggleable {background-color: white;}#sk-container-id-2 label.sk-toggleable__label {cursor: pointer;display: block;width: 100%;margin-bottom: 0;padding: 0.3em;box-sizing: border-box;text-align: center;}#sk-container-id-2 label.sk-toggleable__label-arrow:before {content: \"▸\";float: left;margin-right: 0.25em;color: #696969;}#sk-container-id-2 label.sk-toggleable__label-arrow:hover:before {color: black;}#sk-container-id-2 div.sk-estimator:hover label.sk-toggleable__label-arrow:before {color: black;}#sk-container-id-2 div.sk-toggleable__content {max-height: 0;max-width: 0;overflow: hidden;text-align: left;background-color: #f0f8ff;}#sk-container-id-2 div.sk-toggleable__content pre {margin: 0.2em;color: black;border-radius: 0.25em;background-color: #f0f8ff;}#sk-container-id-2 input.sk-toggleable__control:checked~div.sk-toggleable__content {max-height: 200px;max-width: 100%;overflow: auto;}#sk-container-id-2 input.sk-toggleable__control:checked~label.sk-toggleable__label-arrow:before {content: \"▾\";}#sk-container-id-2 div.sk-estimator input.sk-toggleable__control:checked~label.sk-toggleable__label {background-color: #d4ebff;}#sk-container-id-2 div.sk-label input.sk-toggleable__control:checked~label.sk-toggleable__label {background-color: #d4ebff;}#sk-container-id-2 input.sk-hidden--visually {border: 0;clip: rect(1px 1px 1px 1px);clip: rect(1px, 1px, 1px, 1px);height: 1px;margin: -1px;overflow: hidden;padding: 0;position: absolute;width: 1px;}#sk-container-id-2 div.sk-estimator {font-family: monospace;background-color: #f0f8ff;border: 1px dotted black;border-radius: 0.25em;box-sizing: border-box;margin-bottom: 0.5em;}#sk-container-id-2 div.sk-estimator:hover {background-color: #d4ebff;}#sk-container-id-2 div.sk-parallel-item::after {content: \"\";width: 100%;border-bottom: 1px solid gray;flex-grow: 1;}#sk-container-id-2 div.sk-label:hover label.sk-toggleable__label {background-color: #d4ebff;}#sk-container-id-2 div.sk-serial::before {content: \"\";position: absolute;border-left: 1px solid gray;box-sizing: border-box;top: 0;bottom: 0;left: 50%;z-index: 0;}#sk-container-id-2 div.sk-serial {display: flex;flex-direction: column;align-items: center;background-color: white;padding-right: 0.2em;padding-left: 0.2em;position: relative;}#sk-container-id-2 div.sk-item {position: relative;z-index: 1;}#sk-container-id-2 div.sk-parallel {display: flex;align-items: stretch;justify-content: center;background-color: white;position: relative;}#sk-container-id-2 div.sk-item::before, #sk-container-id-2 div.sk-parallel-item::before {content: \"\";position: absolute;border-left: 1px solid gray;box-sizing: border-box;top: 0;bottom: 0;left: 50%;z-index: -1;}#sk-container-id-2 div.sk-parallel-item {display: flex;flex-direction: column;z-index: 1;position: relative;background-color: white;}#sk-container-id-2 div.sk-parallel-item:first-child::after {align-self: flex-end;width: 50%;}#sk-container-id-2 div.sk-parallel-item:last-child::after {align-self: flex-start;width: 50%;}#sk-container-id-2 div.sk-parallel-item:only-child::after {width: 0;}#sk-container-id-2 div.sk-dashed-wrapped {border: 1px dashed gray;margin: 0 0.4em 0.5em 0.4em;box-sizing: border-box;padding-bottom: 0.4em;background-color: white;}#sk-container-id-2 div.sk-label label {font-family: monospace;font-weight: bold;display: inline-block;line-height: 1.2em;}#sk-container-id-2 div.sk-label-container {text-align: center;}#sk-container-id-2 div.sk-container {/* jupyter's `normalize.less` sets `[hidden] { display: none; }` but bootstrap.min.css set `[hidden] { display: none !important; }` so we also need the `!important` here to be able to override the default hidden behavior on the sphinx rendered scikit-learn.org. See: https://github.com/scikit-learn/scikit-learn/issues/21755 */display: inline-block !important;position: relative;}#sk-container-id-2 div.sk-text-repr-fallback {display: none;}</style><div id=\"sk-container-id-2\" class=\"sk-top-container\"><div class=\"sk-text-repr-fallback\"><pre>Pipeline(steps=[(&#x27;mapper&#x27;,\n",
       "                 DataFrameMapper(drop_cols=[],\n",
       "                                 features=[[&#x27;Country&#x27;, LabelEncoder()],\n",
       "                                           [&#x27;UseOfLoan&#x27;, LabelEncoder()],\n",
       "                                           [&#x27;MaritalStatus&#x27;, LabelEncoder()],\n",
       "                                           [&#x27;EmploymentStatus&#x27;,\n",
       "                                            LabelEncoder()]])),\n",
       "                (&#x27;model&#x27;,\n",
       "                 XGBClassifier(base_score=0.5, booster=&#x27;gbtree&#x27;, callbacks=None,\n",
       "                               colsample_bylevel=1, colsample_bynode=1,\n",
       "                               colsample_bytree=0.5, early_stopping_rounds=None,...\n",
       "                               gamma=0.3, gpu_id=-1, grow_policy=&#x27;depthwise&#x27;,\n",
       "                               importance_type=None, interaction_constraints=&#x27;&#x27;,\n",
       "                               learning_rate=0.2, max_bin=256,\n",
       "                               max_cat_to_onehot=4, max_delta_step=0,\n",
       "                               max_depth=12, max_leaves=0, min_child_weight=1,\n",
       "                               missing=nan, monotone_constraints=&#x27;()&#x27;,\n",
       "                               n_estimators=100, n_jobs=0, num_parallel_tree=1,\n",
       "                               predictor=&#x27;auto&#x27;, random_state=0, reg_alpha=0,\n",
       "                               reg_lambda=1, ...))])</pre><b>In a Jupyter environment, please rerun this cell to show the HTML representation or trust the notebook. <br />On GitHub, the HTML representation is unable to render, please try loading this page with nbviewer.org.</b></div><div class=\"sk-container\" hidden><div class=\"sk-item sk-dashed-wrapped\"><div class=\"sk-label-container\"><div class=\"sk-label sk-toggleable\"><input class=\"sk-toggleable__control sk-hidden--visually\" id=\"sk-estimator-id-4\" type=\"checkbox\" ><label for=\"sk-estimator-id-4\" class=\"sk-toggleable__label sk-toggleable__label-arrow\">Pipeline</label><div class=\"sk-toggleable__content\"><pre>Pipeline(steps=[(&#x27;mapper&#x27;,\n",
       "                 DataFrameMapper(drop_cols=[],\n",
       "                                 features=[[&#x27;Country&#x27;, LabelEncoder()],\n",
       "                                           [&#x27;UseOfLoan&#x27;, LabelEncoder()],\n",
       "                                           [&#x27;MaritalStatus&#x27;, LabelEncoder()],\n",
       "                                           [&#x27;EmploymentStatus&#x27;,\n",
       "                                            LabelEncoder()]])),\n",
       "                (&#x27;model&#x27;,\n",
       "                 XGBClassifier(base_score=0.5, booster=&#x27;gbtree&#x27;, callbacks=None,\n",
       "                               colsample_bylevel=1, colsample_bynode=1,\n",
       "                               colsample_bytree=0.5, early_stopping_rounds=None,...\n",
       "                               gamma=0.3, gpu_id=-1, grow_policy=&#x27;depthwise&#x27;,\n",
       "                               importance_type=None, interaction_constraints=&#x27;&#x27;,\n",
       "                               learning_rate=0.2, max_bin=256,\n",
       "                               max_cat_to_onehot=4, max_delta_step=0,\n",
       "                               max_depth=12, max_leaves=0, min_child_weight=1,\n",
       "                               missing=nan, monotone_constraints=&#x27;()&#x27;,\n",
       "                               n_estimators=100, n_jobs=0, num_parallel_tree=1,\n",
       "                               predictor=&#x27;auto&#x27;, random_state=0, reg_alpha=0,\n",
       "                               reg_lambda=1, ...))])</pre></div></div></div><div class=\"sk-serial\"><div class=\"sk-item\"><div class=\"sk-estimator sk-toggleable\"><input class=\"sk-toggleable__control sk-hidden--visually\" id=\"sk-estimator-id-5\" type=\"checkbox\" ><label for=\"sk-estimator-id-5\" class=\"sk-toggleable__label sk-toggleable__label-arrow\">DataFrameMapper</label><div class=\"sk-toggleable__content\"><pre>DataFrameMapper(drop_cols=[],\n",
       "                features=[[&#x27;Country&#x27;, LabelEncoder()],\n",
       "                          [&#x27;UseOfLoan&#x27;, LabelEncoder()],\n",
       "                          [&#x27;MaritalStatus&#x27;, LabelEncoder()],\n",
       "                          [&#x27;EmploymentStatus&#x27;, LabelEncoder()]])</pre></div></div></div><div class=\"sk-item\"><div class=\"sk-estimator sk-toggleable\"><input class=\"sk-toggleable__control sk-hidden--visually\" id=\"sk-estimator-id-6\" type=\"checkbox\" ><label for=\"sk-estimator-id-6\" class=\"sk-toggleable__label sk-toggleable__label-arrow\">XGBClassifier</label><div class=\"sk-toggleable__content\"><pre>XGBClassifier(base_score=0.5, booster=&#x27;gbtree&#x27;, callbacks=None,\n",
       "              colsample_bylevel=1, colsample_bynode=1, colsample_bytree=0.5,\n",
       "              early_stopping_rounds=None, enable_categorical=False,\n",
       "              eval_metric=None, gamma=0.3, gpu_id=-1, grow_policy=&#x27;depthwise&#x27;,\n",
       "              importance_type=None, interaction_constraints=&#x27;&#x27;,\n",
       "              learning_rate=0.2, max_bin=256, max_cat_to_onehot=4,\n",
       "              max_delta_step=0, max_depth=12, max_leaves=0, min_child_weight=1,\n",
       "              missing=nan, monotone_constraints=&#x27;()&#x27;, n_estimators=100,\n",
       "              n_jobs=0, num_parallel_tree=1, predictor=&#x27;auto&#x27;, random_state=0,\n",
       "              reg_alpha=0, reg_lambda=1, ...)</pre></div></div></div></div></div></div></div>"
      ],
      "text/plain": [
       "Pipeline(steps=[('mapper',\n",
       "                 DataFrameMapper(drop_cols=[],\n",
       "                                 features=[['Country', LabelEncoder()],\n",
       "                                           ['UseOfLoan', LabelEncoder()],\n",
       "                                           ['MaritalStatus', LabelEncoder()],\n",
       "                                           ['EmploymentStatus',\n",
       "                                            LabelEncoder()]])),\n",
       "                ('model',\n",
       "                 XGBClassifier(base_score=0.5, booster='gbtree', callbacks=None,\n",
       "                               colsample_bylevel=1, colsample_bynode=1,\n",
       "                               colsample_bytree=0.5, early_stopping_rounds=None,...\n",
       "                               gamma=0.3, gpu_id=-1, grow_policy='depthwise',\n",
       "                               importance_type=None, interaction_constraints='',\n",
       "                               learning_rate=0.2, max_bin=256,\n",
       "                               max_cat_to_onehot=4, max_delta_step=0,\n",
       "                               max_depth=12, max_leaves=0, min_child_weight=1,\n",
       "                               missing=nan, monotone_constraints='()',\n",
       "                               n_estimators=100, n_jobs=0, num_parallel_tree=1,\n",
       "                               predictor='auto', random_state=0, reg_alpha=0,\n",
       "                               reg_lambda=1, ...))])"
      ]
     },
     "execution_count": 14,
     "metadata": {},
     "output_type": "execute_result"
    }
   ],
   "source": [
    "model.fit(X,y)"
   ]
  },
  {
   "cell_type": "code",
   "execution_count": 23,
   "id": "98837d80",
   "metadata": {
    "ExecuteTime": {
     "end_time": "2022-11-04T08:27:58.922844Z",
     "start_time": "2022-11-04T08:27:58.900817Z"
    }
   },
   "outputs": [
    {
     "data": {
      "text/html": [
       "<div>\n",
       "<style scoped>\n",
       "    .dataframe tbody tr th:only-of-type {\n",
       "        vertical-align: middle;\n",
       "    }\n",
       "\n",
       "    .dataframe tbody tr th {\n",
       "        vertical-align: top;\n",
       "    }\n",
       "\n",
       "    .dataframe thead th {\n",
       "        text-align: right;\n",
       "    }\n",
       "</style>\n",
       "<table border=\"1\" class=\"dataframe\">\n",
       "  <thead>\n",
       "    <tr style=\"text-align: right;\">\n",
       "      <th></th>\n",
       "      <th>Country</th>\n",
       "      <th>Amount</th>\n",
       "      <th>Interest</th>\n",
       "      <th>LoanDuration</th>\n",
       "      <th>MonthlyPayment</th>\n",
       "      <th>UseOfLoan</th>\n",
       "      <th>MaritalStatus</th>\n",
       "      <th>EmploymentStatus</th>\n",
       "      <th>DebtToIncome</th>\n",
       "      <th>PrincipalBalance</th>\n",
       "      <th>InterestAndPenaltyBalance</th>\n",
       "      <th>PreviousRepaymentsBeforeLoan</th>\n",
       "      <th>NewCreditCustomer</th>\n",
       "      <th>Target</th>\n",
       "    </tr>\n",
       "  </thead>\n",
       "  <tbody>\n",
       "    <tr>\n",
       "      <th>8</th>\n",
       "      <td>EE</td>\n",
       "      <td>31.9498</td>\n",
       "      <td>20.0</td>\n",
       "      <td>12</td>\n",
       "      <td>0.0</td>\n",
       "      <td>Home Improvement</td>\n",
       "      <td>Single</td>\n",
       "      <td>Fully-Employed</td>\n",
       "      <td>0.0</td>\n",
       "      <td>0.0</td>\n",
       "      <td>0.0</td>\n",
       "      <td>0.0</td>\n",
       "      <td>True</td>\n",
       "      <td>1</td>\n",
       "    </tr>\n",
       "    <tr>\n",
       "      <th>9</th>\n",
       "      <td>EE</td>\n",
       "      <td>319.5583</td>\n",
       "      <td>25.0</td>\n",
       "      <td>12</td>\n",
       "      <td>0.0</td>\n",
       "      <td>Loan Consolidation</td>\n",
       "      <td>Married</td>\n",
       "      <td>Fully-Employed</td>\n",
       "      <td>0.0</td>\n",
       "      <td>0.0</td>\n",
       "      <td>0.0</td>\n",
       "      <td>0.0</td>\n",
       "      <td>True</td>\n",
       "      <td>0</td>\n",
       "    </tr>\n",
       "  </tbody>\n",
       "</table>\n",
       "</div>"
      ],
      "text/plain": [
       "  Country    Amount  Interest  LoanDuration  MonthlyPayment  \\\n",
       "8      EE   31.9498      20.0            12             0.0   \n",
       "9      EE  319.5583      25.0            12             0.0   \n",
       "\n",
       "            UseOfLoan MaritalStatus EmploymentStatus  DebtToIncome  \\\n",
       "8    Home Improvement        Single   Fully-Employed           0.0   \n",
       "9  Loan Consolidation       Married   Fully-Employed           0.0   \n",
       "\n",
       "   PrincipalBalance  InterestAndPenaltyBalance  PreviousRepaymentsBeforeLoan  \\\n",
       "8               0.0                        0.0                           0.0   \n",
       "9               0.0                        0.0                           0.0   \n",
       "\n",
       "   NewCreditCustomer  Target  \n",
       "8               True       1  \n",
       "9               True       0  "
      ]
     },
     "execution_count": 23,
     "metadata": {},
     "output_type": "execute_result"
    }
   ],
   "source": [
    "bon[8:10]"
   ]
  },
  {
   "cell_type": "code",
   "execution_count": 24,
   "id": "a2fdc848",
   "metadata": {
    "ExecuteTime": {
     "end_time": "2022-11-04T08:28:12.362347Z",
     "start_time": "2022-11-04T08:28:12.350015Z"
    }
   },
   "outputs": [
    {
     "data": {
      "text/plain": [
       "array([1, 0])"
      ]
     },
     "execution_count": 24,
     "metadata": {},
     "output_type": "execute_result"
    }
   ],
   "source": [
    "model.predict(X[8:10])"
   ]
  },
  {
   "cell_type": "code",
   "execution_count": null,
   "id": "bd056d8a",
   "metadata": {},
   "outputs": [],
   "source": []
  },
  {
   "cell_type": "code",
   "execution_count": null,
   "id": "93f18697",
   "metadata": {},
   "outputs": [],
   "source": []
  },
  {
   "cell_type": "code",
   "execution_count": null,
   "id": "a9d235b0",
   "metadata": {},
   "outputs": [],
   "source": []
  },
  {
   "cell_type": "code",
   "execution_count": 61,
   "id": "f53c5aa3",
   "metadata": {},
   "outputs": [],
   "source": [
    "import pickle"
   ]
  },
  {
   "cell_type": "code",
   "execution_count": 62,
   "id": "d9cd1575",
   "metadata": {},
   "outputs": [],
   "source": [
    "with open(file=\"final_model.pkl\",mode=\"wb\") as f:\n",
    "    pickle.dump(model,f)"
   ]
  },
  {
   "cell_type": "code",
   "execution_count": null,
   "id": "104db033",
   "metadata": {},
   "outputs": [],
   "source": []
  },
  {
   "cell_type": "code",
   "execution_count": null,
   "id": "d4d7dbab",
   "metadata": {},
   "outputs": [],
   "source": []
  },
  {
   "cell_type": "code",
   "execution_count": null,
   "id": "e9a174ef",
   "metadata": {},
   "outputs": [],
   "source": []
  },
  {
   "cell_type": "code",
   "execution_count": null,
   "id": "9f89b7d6",
   "metadata": {},
   "outputs": [],
   "source": []
  },
  {
   "cell_type": "code",
   "execution_count": null,
   "id": "27624eaa",
   "metadata": {},
   "outputs": [],
   "source": []
  },
  {
   "cell_type": "code",
   "execution_count": null,
   "id": "3c439c77",
   "metadata": {},
   "outputs": [],
   "source": []
  }
 ],
 "metadata": {
  "kernelspec": {
   "display_name": "Python 3 (ipykernel)",
   "language": "python",
   "name": "python3"
  },
  "language_info": {
   "codemirror_mode": {
    "name": "ipython",
    "version": 3
   },
   "file_extension": ".py",
   "mimetype": "text/x-python",
   "name": "python",
   "nbconvert_exporter": "python",
   "pygments_lexer": "ipython3",
   "version": "3.9.7"
  },
  "latex_envs": {
   "LaTeX_envs_menu_present": true,
   "autoclose": true,
   "autocomplete": true,
   "bibliofile": "biblio.bib",
   "cite_by": "apalike",
   "current_citInitial": 1,
   "eqLabelWithNumbers": true,
   "eqNumInitial": 1,
   "hotkeys": {
    "equation": "Ctrl-E",
    "itemize": "Ctrl-I"
   },
   "labels_anchors": false,
   "latex_user_defs": false,
   "report_style_numbering": false,
   "user_envs_cfg": false
  },
  "varInspector": {
   "cols": {
    "lenName": 16,
    "lenType": 16,
    "lenVar": 40
   },
   "kernels_config": {
    "python": {
     "delete_cmd_postfix": "",
     "delete_cmd_prefix": "del ",
     "library": "var_list.py",
     "varRefreshCmd": "print(var_dic_list())"
    },
    "r": {
     "delete_cmd_postfix": ") ",
     "delete_cmd_prefix": "rm(",
     "library": "var_list.r",
     "varRefreshCmd": "cat(var_dic_list()) "
    }
   },
   "types_to_exclude": [
    "module",
    "function",
    "builtin_function_or_method",
    "instance",
    "_Feature"
   ],
   "window_display": false
  }
 },
 "nbformat": 4,
 "nbformat_minor": 5
}
